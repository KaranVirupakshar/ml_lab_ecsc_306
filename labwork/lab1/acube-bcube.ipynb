import tensorflow as tf
with tf.name_scope("a3-b3"):
    with tf.name_scope("a-b"):
        a = tf.subtract(6, 3, name="SUB")
    with tf.name_scope("a2_ab_b2"):
        with tf.name_scope("a2"):
            b = tf.multiply(6, 6, name="MULTIPLY")
        with tf.name_scope("ab"):
            c= tf.multiply(6, 3, name="MULTIPLY")
        with tf.name_scope("B2"):
            d = tf.multiply(3, 3, name="MULTIPLY")
        e = tf.add(b, c, name="ADDITION")
        f = tf.add(d, e, name="ADDITION")
    g = tf.multiply(a, f, name="MULTIPLY")

with tf.Session() as sess:
    writer = tf.summary.FileWriter("/tmp/tboard/output15", sess.graph)
    print(sess.run(g))
    writer.close()